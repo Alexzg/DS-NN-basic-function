{
 "cells": [
  {
   "cell_type": "markdown",
   "metadata": {},
   "source": [
    "# DS .csv measurement maker"
   ]
  },
  {
   "cell_type": "markdown",
   "metadata": {},
   "source": [
    "## Measurement Matrix = (8 rows, 10 columns)"
   ]
  },
  {
   "cell_type": "code",
   "execution_count": 2,
   "metadata": {
    "collapsed": true
   },
   "outputs": [],
   "source": [
    "import random\n",
    "import csv"
   ]
  },
  {
   "cell_type": "markdown",
   "metadata": {},
   "source": [
    "### 1. Distribution = (10,300)"
   ]
  },
  {
   "cell_type": "markdown",
   "metadata": {},
   "source": [
    "#### Range of values = _column1_:(10,30)$*$1 & _column2_:(10,30)$*$2 ...\n",
    "#### Each number is multiplied by the column_number"
   ]
  },
  {
   "cell_type": "code",
   "execution_count": 3,
   "metadata": {
    "collapsed": true
   },
   "outputs": [],
   "source": [
    "nf = 300 # Number of csv files to be created\n",
    "for f_number in range(nf):\n",
    "    a=b=c=d=e=f=g=h=[] # Rows\n",
    "    \n",
    "    a = [random.randint(10,30)*column for column in range(1,11)]\n",
    "    b = [random.randint(10,30)*column for column in range(1,11)]\n",
    "    c = [random.randint(10,30)*column for column in range(1,11)]\n",
    "    d = [random.randint(10,30)*column for column in range(1,11)]\n",
    "    e = [random.randint(10,30)*column for column in range(1,11)]\n",
    "    f = [random.randint(10,30)*column for column in range(1,11)]\n",
    "    g = [random.randint(10,30)*column for column in range(1,11)]\n",
    "    h = [random.randint(10,30)*column for column in range(1,11)]\n",
    "    \n",
    "    res = [a, b, c, d, e, f, g, h]\n",
    "    csvfile = \"C:\\\\Users\\\\Alex\\\\Desktop\\\\DS DNN basic functions\\\\10_300\\\\Meas (\"+str(f_number)+\").csv\"\n",
    "    \n",
    "    with open(csvfile, \"w\") as output:\n",
    "        writer = csv.writer(output, lineterminator='\\n')\n",
    "        writer.writerows(res)"
   ]
  },
  {
   "cell_type": "markdown",
   "metadata": {},
   "source": [
    "### 2. Distribution = (30,900)"
   ]
  },
  {
   "cell_type": "markdown",
   "metadata": {},
   "source": [
    "#### Range of values = _column1_:(10,30)$*$1$*$3 & _column2_:(10,30)$*$2$*$3 ...\n",
    "#### Each number is multiplied by (the column_number $*$ 3)"
   ]
  },
  {
   "cell_type": "code",
   "execution_count": 4,
   "metadata": {
    "collapsed": true
   },
   "outputs": [],
   "source": [
    "nf = 300 # Number of csv files to be created\n",
    "for f_number in range(nf):\n",
    "    a=b=c=d=e=f=g=h=[] # Rows\n",
    "    \n",
    "    a = [random.randint(10,30)*(column*3) for column in range(1,11)]\n",
    "    b = [random.randint(10,30)*(column*3) for column in range(1,11)]\n",
    "    c = [random.randint(10,30)*(column*3) for column in range(1,11)]\n",
    "    d = [random.randint(10,30)*(column*3) for column in range(1,11)]\n",
    "    e = [random.randint(10,30)*(column*3) for column in range(1,11)]\n",
    "    f = [random.randint(10,30)*(column*3) for column in range(1,11)]\n",
    "    g = [random.randint(10,30)*(column*3) for column in range(1,11)]\n",
    "    h = [random.randint(10,30)*(column*3) for column in range(1,11)]\n",
    "    \n",
    "    res = [a, b, c, d, e, f, g, h]\n",
    "    csvfile = \"C:\\\\Users\\\\Alex\\\\Desktop\\\\DS DNN basic functions\\\\30_900\\\\Meas (\"+str(f_number)+\").csv\"\n",
    "    \n",
    "    with open(csvfile, \"w\") as output:\n",
    "        writer = csv.writer(output, lineterminator='\\n')\n",
    "        writer.writerows(res)"
   ]
  },
  {
   "cell_type": "markdown",
   "metadata": {
    "collapsed": true
   },
   "source": [
    "### 3. Distribution = (100,200)"
   ]
  },
  {
   "cell_type": "markdown",
   "metadata": {},
   "source": [
    "#### Range of values = _column1_:(100,200) & _column2_:(100,200) ..."
   ]
  },
  {
   "cell_type": "code",
   "execution_count": 5,
   "metadata": {},
   "outputs": [],
   "source": [
    "nf = 300 # Number of csv files to be created\n",
    "for f_number in range(nf):\n",
    "    a=b=c=d=e=f=g=h=[] # Rows\n",
    "    \n",
    "    a = [random.randint(100,200) for column in range(1,11)]\n",
    "    b = [random.randint(100,200) for column in range(1,11)]\n",
    "    c = [random.randint(100,200) for column in range(1,11)]\n",
    "    d = [random.randint(100,200) for column in range(1,11)]\n",
    "    e = [random.randint(100,200) for column in range(1,11)]\n",
    "    f = [random.randint(100,200) for column in range(1,11)]\n",
    "    g = [random.randint(100,200) for column in range(1,11)]\n",
    "    h = [random.randint(100,200) for column in range(1,11)]\n",
    "    \n",
    "    res = [a, b, c, d, e, f, g, h]\n",
    "    csvfile = \"C:\\\\Users\\\\Alex\\\\Desktop\\\\DS DNN basic functions\\\\100_200\\\\Meas (\"+str(f_number)+\").csv\"\n",
    "    \n",
    "    with open(csvfile, \"w\") as output:\n",
    "        writer = csv.writer(output, lineterminator='\\n')\n",
    "        writer.writerows(res)"
   ]
  },
  {
   "cell_type": "markdown",
   "metadata": {},
   "source": [
    "### 4. Distribution = (310,3300)"
   ]
  },
  {
   "cell_type": "markdown",
   "metadata": {},
   "source": [
    "#### Range of values = _column1_:(310,330)$*$1 & _column2_:(310,330)$*$2 ...\n",
    "#### Each number is multiplied by the column_number"
   ]
  },
  {
   "cell_type": "code",
   "execution_count": 6,
   "metadata": {
    "collapsed": true
   },
   "outputs": [],
   "source": [
    "nf = 300 # Number of csv files to be created\n",
    "for f_number in range(nf):\n",
    "    a=b=c=d=e=f=g=h=[] # Rows\n",
    "    \n",
    "    a = [random.randint(310,330)*column for column in range(1,11)]\n",
    "    b = [random.randint(310,330)*column for column in range(1,11)]\n",
    "    c = [random.randint(310,330)*column for column in range(1,11)]\n",
    "    d = [random.randint(310,330)*column for column in range(1,11)]\n",
    "    e = [random.randint(310,330)*column for column in range(1,11)]\n",
    "    f = [random.randint(310,330)*column for column in range(1,11)]\n",
    "    g = [random.randint(310,330)*column for column in range(1,11)]\n",
    "    h = [random.randint(310,330)*column for column in range(1,11)]\n",
    "    \n",
    "    res = [a, b, c, d, e, f, g, h]\n",
    "    csvfile = \"C:\\\\Users\\\\Alex\\\\Desktop\\\\DS DNN basic functions\\\\310_3300\\\\Meas (\"+str(f_number)+\").csv\"\n",
    "    \n",
    "    with open(csvfile, \"w\") as output:\n",
    "        writer = csv.writer(output, lineterminator='\\n')\n",
    "        writer.writerows(res)"
   ]
  },
  {
   "cell_type": "code",
   "execution_count": null,
   "metadata": {
    "collapsed": true
   },
   "outputs": [],
   "source": []
  }
 ],
 "metadata": {
  "kernelspec": {
   "display_name": "Python 3",
   "language": "python",
   "name": "python3"
  },
  "language_info": {
   "codemirror_mode": {
    "name": "ipython",
    "version": 3
   },
   "file_extension": ".py",
   "mimetype": "text/x-python",
   "name": "python",
   "nbconvert_exporter": "python",
   "pygments_lexer": "ipython3",
   "version": "3.5.4"
  }
 },
 "nbformat": 4,
 "nbformat_minor": 2
}
