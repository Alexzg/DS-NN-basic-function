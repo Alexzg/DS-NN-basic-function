{
 "cells": [
  {
   "cell_type": "markdown",
   "metadata": {},
   "source": [
    "# DS NN Training"
   ]
  },
  {
   "cell_type": "code",
   "execution_count": 1,
   "metadata": {},
   "outputs": [
    {
     "name": "stderr",
     "output_type": "stream",
     "text": [
      "C:\\Secondary_Program_Folder\\envs\\DeepLearningLearning1\\lib\\site-packages\\h5py\\__init__.py:36: FutureWarning: Conversion of the second argument of issubdtype from `float` to `np.floating` is deprecated. In future, it will be treated as `np.float64 == np.dtype(float).type`.\n",
      "  from ._conv import register_converters as _register_converters\n",
      "Using TensorFlow backend.\n"
     ]
    }
   ],
   "source": [
    "from keras.models import Sequential\n",
    "from keras.layers import Dense\n",
    "from keras.callbacks import ModelCheckpoint\n",
    "from keras import regularizers\n",
    "from keras import backend as K # Tensorflow\n",
    "from sklearn.model_selection import train_test_split\n",
    "\n",
    "import numpy as np\n",
    "import pandas as pd\n",
    "import os, fnmatch\n",
    "import seaborn as sns\n",
    "import matplotlib.pyplot as plt"
   ]
  },
  {
   "cell_type": "markdown",
   "metadata": {},
   "source": [
    "## Step 1: Read data"
   ]
  },
  {
   "cell_type": "code",
   "execution_count": 2,
   "metadata": {
    "collapsed": true,
    "scrolled": true
   },
   "outputs": [],
   "source": [
    "def read_data_set(data_set, pattern):\n",
    "    list_ = []\n",
    "    pin_id = ['1','2','3','4','5','6','7','8'] # Electrode(Pin) id names\n",
    "    # Find Measurement(x).csv files in folder =======================================\n",
    "    directory = os.listdir(directory_path)# Import directory's file names\n",
    "    sum_files = 0\n",
    "    files = [] # Create the list of Measurement files\n",
    "    for file in directory:\n",
    "        if fnmatch.fnmatch(file, pattern): # Check if True -> \"file.pattern\"\n",
    "            data = pd.read_csv(directory_path+\"\\\\\"+file, delimiter=',', header=None)\n",
    "            data.index = pin_id # Chenge index pin id number\n",
    "            list_.append(data) # Put all data in a list for later use\n",
    "            files.append(file) # \n",
    "            sum_files += 1 \n",
    "    data_set = pd.concat(list_)# Make the list a dataframe\n",
    "    data_set.columns = ['50khZ','100khZ','150khZ','200khZ','250khZ','300khZ','350khZ','400khZ','450khZ','500khZ']\n",
    "    data_set.index.name = 'Pin'\n",
    "    print (\"Size of DataFrame:\", data_set.shape)\n",
    "    print ('Path: ',directory_path)\n",
    "    print ('Imported files for Training :', files)\n",
    "    return data_set"
   ]
  },
  {
   "cell_type": "code",
   "execution_count": 3,
   "metadata": {
    "collapsed": true
   },
   "outputs": [],
   "source": [
    "def read_diagnosis(data_set):\n",
    "    directory = os.listdir(directory_path)# Import directory's file names\n",
    "    file = 'Diagnosis.txt'\n",
    "    if file in directory:\n",
    "        data_set = pd.read_csv(directory_path+\"\\\\\"+file, header=None)\n",
    "    return data_set.loc[0][0]"
   ]
  },
  {
   "cell_type": "markdown",
   "metadata": {},
   "source": [
    "## Step 2: Create Training set from data"
   ]
  },
  {
   "cell_type": "code",
   "execution_count": 4,
   "metadata": {
    "collapsed": true
   },
   "outputs": [],
   "source": [
    "def train_data_handling(): \n",
    "    train_data_set = data_set.copy()\n",
    "    # Change name of columns for easier optical distinction\n",
    "    train_data_set.columns=['x1', 'x2', 'x3', 'x4', 'x5', 'x6', 'x7', 'x8', 'x9', 'x10', 'y'] \n",
    "    \n",
    "    mask = train_data_set['y'] == 'F10_300'\n",
    "    train_data_set.loc[mask, 'y'] = 0\n",
    "    mask = train_data_set['y'] == 'F30_900'\n",
    "    train_data_set.loc[mask, 'y'] = 1\n",
    "    \n",
    "    #X: Input, Y: Output\n",
    "    X, Y = train_data_set.drop('y', axis=1).values , train_data_set['y'].values\n",
    "    X_train, X_test, Y_train, Y_test = train_test_split(X, Y, test_size=0.33, random_state=42)\n",
    "    \n",
    "    return train_data_set, X_train, X_test, Y_train, Y_test"
   ]
  },
  {
   "cell_type": "markdown",
   "metadata": {},
   "source": [
    "## Step 3: Train NN"
   ]
  },
  {
   "cell_type": "code",
   "execution_count": 5,
   "metadata": {
    "collapsed": true
   },
   "outputs": [],
   "source": [
    "def train_NN(x,batch,l1,l2,l3,l4,r1,r2,a1,a2,a3,a4,ep):\n",
    "    # Model, Layers\n",
    "    model = Sequential()\n",
    "    model.add(Dense(l1, input_dim=x, activation=a1))\n",
    "    #model.add(Dense(r1, activity_regularizer=regularizers.l1(0.5))) # regularizer\n",
    "    model.add(Dense(l2, activation=a2))\n",
    "    #model.add(Dense(r2, activity_regularizer=regularizers.l1(0.3))) # regularizer\n",
    "    model.add(Dense(l3, activation=a3))\n",
    "    model.add(Dense(l4, activation=a4))\n",
    "    # Model Train\n",
    "    accuracy_train, accuracy_test = [], []\n",
    " \n",
    "    # Model initialization\n",
    "    model.compile(loss='binary_crossentropy', optimizer='adam', metrics=['accuracy']);\n",
    "    history = model.fit(X_train, Y_train, validation_data=(X_test,Y_test), batch_size=batch, \n",
    "              epochs=ep, shuffle=True, verbose=0)\n",
    "    # Model test, Evaluate=['loss','acc']\n",
    "    score_train = model.evaluate(X_train, Y_train, batch_size=batch)\n",
    "    score_test = model.evaluate(X_test, Y_test, batch_size=batch)\n",
    "    accuracy_train = score_train[1]*100 # Keep scores for visual\n",
    "    accuracy_test = score_test[1]*100 # Keep scores for visual\n",
    "    \n",
    "    print(\"\\n%s: %.2f%%\" % ('Train Accuracy', score_train[1]*100))\n",
    "    print(\"%s: %.2f%%\" % ('Test Accuracy', score_test[1]*100))\n",
    "    print(\"%s: %.2f%%\" % ('Difference: ', accuracy_train-accuracy_test))\n",
    "    print('-------------')\n",
    "    model.summary()\n",
    "    return score_train, score_test, accuracy_train, accuracy_test, model, history"
   ]
  },
  {
   "cell_type": "markdown",
   "metadata": {},
   "source": [
    "## Step 4: Visual"
   ]
  },
  {
   "cell_type": "code",
   "execution_count": 6,
   "metadata": {
    "collapsed": true
   },
   "outputs": [],
   "source": [
    "def visual(): \n",
    "    '''\n",
    "    val_train = pd.DataFrame(accuracy_train)\n",
    "    val_train['score_type'] = 'Train accuracy'\n",
    "    val_test = pd.DataFrame(accuracy_test)\n",
    "    val_test['score_type'] = 'Test accuracy'\n",
    "    val = pd.concat([val_train, val_test])\n",
    "    val.columns = ['Accuracy%', 'Error type']\n",
    "    val.index.name = 'Iteration'\n",
    "    \n",
    "    fg1 = sns.pointplot(x=val.index, y='Accuracy%', data=val, hue='Error type')\n",
    "    plt.show()\n",
    "    '''\n",
    "    plt.plot(history.history['acc'])\n",
    "    plt.plot(history.history['val_acc'])\n",
    "    plt.title('Model Accuracy')\n",
    "    plt.ylabel('Accuracy')\n",
    "    plt.xlabel('Epoch')\n",
    "    plt.legend(['Train', 'Test'], loc='upper left')\n",
    "    plt.show()\n",
    "    \n",
    "    \n",
    "    return "
   ]
  },
  {
   "cell_type": "markdown",
   "metadata": {},
   "source": [
    "# MAIN PROGRAM"
   ]
  },
  {
   "cell_type": "markdown",
   "metadata": {},
   "source": [
    "## Step 1"
   ]
  },
  {
   "cell_type": "code",
   "execution_count": 7,
   "metadata": {},
   "outputs": [
    {
     "name": "stdout",
     "output_type": "stream",
     "text": [
      "Size of DataFrame: (2400, 10)\n",
      "Path:  C:\\Users\\Alex\\Desktop\\DS DNN basic functions\\10_300\n",
      "Imported files for Training : ['Meas (0).csv', 'Meas (1).csv', 'Meas (10).csv', 'Meas (100).csv', 'Meas (101).csv', 'Meas (102).csv', 'Meas (103).csv', 'Meas (104).csv', 'Meas (105).csv', 'Meas (106).csv', 'Meas (107).csv', 'Meas (108).csv', 'Meas (109).csv', 'Meas (11).csv', 'Meas (110).csv', 'Meas (111).csv', 'Meas (112).csv', 'Meas (113).csv', 'Meas (114).csv', 'Meas (115).csv', 'Meas (116).csv', 'Meas (117).csv', 'Meas (118).csv', 'Meas (119).csv', 'Meas (12).csv', 'Meas (120).csv', 'Meas (121).csv', 'Meas (122).csv', 'Meas (123).csv', 'Meas (124).csv', 'Meas (125).csv', 'Meas (126).csv', 'Meas (127).csv', 'Meas (128).csv', 'Meas (129).csv', 'Meas (13).csv', 'Meas (130).csv', 'Meas (131).csv', 'Meas (132).csv', 'Meas (133).csv', 'Meas (134).csv', 'Meas (135).csv', 'Meas (136).csv', 'Meas (137).csv', 'Meas (138).csv', 'Meas (139).csv', 'Meas (14).csv', 'Meas (140).csv', 'Meas (141).csv', 'Meas (142).csv', 'Meas (143).csv', 'Meas (144).csv', 'Meas (145).csv', 'Meas (146).csv', 'Meas (147).csv', 'Meas (148).csv', 'Meas (149).csv', 'Meas (15).csv', 'Meas (150).csv', 'Meas (151).csv', 'Meas (152).csv', 'Meas (153).csv', 'Meas (154).csv', 'Meas (155).csv', 'Meas (156).csv', 'Meas (157).csv', 'Meas (158).csv', 'Meas (159).csv', 'Meas (16).csv', 'Meas (160).csv', 'Meas (161).csv', 'Meas (162).csv', 'Meas (163).csv', 'Meas (164).csv', 'Meas (165).csv', 'Meas (166).csv', 'Meas (167).csv', 'Meas (168).csv', 'Meas (169).csv', 'Meas (17).csv', 'Meas (170).csv', 'Meas (171).csv', 'Meas (172).csv', 'Meas (173).csv', 'Meas (174).csv', 'Meas (175).csv', 'Meas (176).csv', 'Meas (177).csv', 'Meas (178).csv', 'Meas (179).csv', 'Meas (18).csv', 'Meas (180).csv', 'Meas (181).csv', 'Meas (182).csv', 'Meas (183).csv', 'Meas (184).csv', 'Meas (185).csv', 'Meas (186).csv', 'Meas (187).csv', 'Meas (188).csv', 'Meas (189).csv', 'Meas (19).csv', 'Meas (190).csv', 'Meas (191).csv', 'Meas (192).csv', 'Meas (193).csv', 'Meas (194).csv', 'Meas (195).csv', 'Meas (196).csv', 'Meas (197).csv', 'Meas (198).csv', 'Meas (199).csv', 'Meas (2).csv', 'Meas (20).csv', 'Meas (200).csv', 'Meas (201).csv', 'Meas (202).csv', 'Meas (203).csv', 'Meas (204).csv', 'Meas (205).csv', 'Meas (206).csv', 'Meas (207).csv', 'Meas (208).csv', 'Meas (209).csv', 'Meas (21).csv', 'Meas (210).csv', 'Meas (211).csv', 'Meas (212).csv', 'Meas (213).csv', 'Meas (214).csv', 'Meas (215).csv', 'Meas (216).csv', 'Meas (217).csv', 'Meas (218).csv', 'Meas (219).csv', 'Meas (22).csv', 'Meas (220).csv', 'Meas (221).csv', 'Meas (222).csv', 'Meas (223).csv', 'Meas (224).csv', 'Meas (225).csv', 'Meas (226).csv', 'Meas (227).csv', 'Meas (228).csv', 'Meas (229).csv', 'Meas (23).csv', 'Meas (230).csv', 'Meas (231).csv', 'Meas (232).csv', 'Meas (233).csv', 'Meas (234).csv', 'Meas (235).csv', 'Meas (236).csv', 'Meas (237).csv', 'Meas (238).csv', 'Meas (239).csv', 'Meas (24).csv', 'Meas (240).csv', 'Meas (241).csv', 'Meas (242).csv', 'Meas (243).csv', 'Meas (244).csv', 'Meas (245).csv', 'Meas (246).csv', 'Meas (247).csv', 'Meas (248).csv', 'Meas (249).csv', 'Meas (25).csv', 'Meas (250).csv', 'Meas (251).csv', 'Meas (252).csv', 'Meas (253).csv', 'Meas (254).csv', 'Meas (255).csv', 'Meas (256).csv', 'Meas (257).csv', 'Meas (258).csv', 'Meas (259).csv', 'Meas (26).csv', 'Meas (260).csv', 'Meas (261).csv', 'Meas (262).csv', 'Meas (263).csv', 'Meas (264).csv', 'Meas (265).csv', 'Meas (266).csv', 'Meas (267).csv', 'Meas (268).csv', 'Meas (269).csv', 'Meas (27).csv', 'Meas (270).csv', 'Meas (271).csv', 'Meas (272).csv', 'Meas (273).csv', 'Meas (274).csv', 'Meas (275).csv', 'Meas (276).csv', 'Meas (277).csv', 'Meas (278).csv', 'Meas (279).csv', 'Meas (28).csv', 'Meas (280).csv', 'Meas (281).csv', 'Meas (282).csv', 'Meas (283).csv', 'Meas (284).csv', 'Meas (285).csv', 'Meas (286).csv', 'Meas (287).csv', 'Meas (288).csv', 'Meas (289).csv', 'Meas (29).csv', 'Meas (290).csv', 'Meas (291).csv', 'Meas (292).csv', 'Meas (293).csv', 'Meas (294).csv', 'Meas (295).csv', 'Meas (296).csv', 'Meas (297).csv', 'Meas (298).csv', 'Meas (299).csv', 'Meas (3).csv', 'Meas (30).csv', 'Meas (31).csv', 'Meas (32).csv', 'Meas (33).csv', 'Meas (34).csv', 'Meas (35).csv', 'Meas (36).csv', 'Meas (37).csv', 'Meas (38).csv', 'Meas (39).csv', 'Meas (4).csv', 'Meas (40).csv', 'Meas (41).csv', 'Meas (42).csv', 'Meas (43).csv', 'Meas (44).csv', 'Meas (45).csv', 'Meas (46).csv', 'Meas (47).csv', 'Meas (48).csv', 'Meas (49).csv', 'Meas (5).csv', 'Meas (50).csv', 'Meas (51).csv', 'Meas (52).csv', 'Meas (53).csv', 'Meas (54).csv', 'Meas (55).csv', 'Meas (56).csv', 'Meas (57).csv', 'Meas (58).csv', 'Meas (59).csv', 'Meas (6).csv', 'Meas (60).csv', 'Meas (61).csv', 'Meas (62).csv', 'Meas (63).csv', 'Meas (64).csv', 'Meas (65).csv', 'Meas (66).csv', 'Meas (67).csv', 'Meas (68).csv', 'Meas (69).csv', 'Meas (7).csv', 'Meas (70).csv', 'Meas (71).csv', 'Meas (72).csv', 'Meas (73).csv', 'Meas (74).csv', 'Meas (75).csv', 'Meas (76).csv', 'Meas (77).csv', 'Meas (78).csv', 'Meas (79).csv', 'Meas (8).csv', 'Meas (80).csv', 'Meas (81).csv', 'Meas (82).csv', 'Meas (83).csv', 'Meas (84).csv', 'Meas (85).csv', 'Meas (86).csv', 'Meas (87).csv', 'Meas (88).csv', 'Meas (89).csv', 'Meas (9).csv', 'Meas (90).csv', 'Meas (91).csv', 'Meas (92).csv', 'Meas (93).csv', 'Meas (94).csv', 'Meas (95).csv', 'Meas (96).csv', 'Meas (97).csv', 'Meas (98).csv', 'Meas (99).csv']\n",
      "Size of DataFrame: (2400, 10)\n",
      "Path:  C:\\Users\\Alex\\Desktop\\DS DNN basic functions\\30_900\n",
      "Imported files for Training : ['Meas (0).csv', 'Meas (1).csv', 'Meas (10).csv', 'Meas (100).csv', 'Meas (101).csv', 'Meas (102).csv', 'Meas (103).csv', 'Meas (104).csv', 'Meas (105).csv', 'Meas (106).csv', 'Meas (107).csv', 'Meas (108).csv', 'Meas (109).csv', 'Meas (11).csv', 'Meas (110).csv', 'Meas (111).csv', 'Meas (112).csv', 'Meas (113).csv', 'Meas (114).csv', 'Meas (115).csv', 'Meas (116).csv', 'Meas (117).csv', 'Meas (118).csv', 'Meas (119).csv', 'Meas (12).csv', 'Meas (120).csv', 'Meas (121).csv', 'Meas (122).csv', 'Meas (123).csv', 'Meas (124).csv', 'Meas (125).csv', 'Meas (126).csv', 'Meas (127).csv', 'Meas (128).csv', 'Meas (129).csv', 'Meas (13).csv', 'Meas (130).csv', 'Meas (131).csv', 'Meas (132).csv', 'Meas (133).csv', 'Meas (134).csv', 'Meas (135).csv', 'Meas (136).csv', 'Meas (137).csv', 'Meas (138).csv', 'Meas (139).csv', 'Meas (14).csv', 'Meas (140).csv', 'Meas (141).csv', 'Meas (142).csv', 'Meas (143).csv', 'Meas (144).csv', 'Meas (145).csv', 'Meas (146).csv', 'Meas (147).csv', 'Meas (148).csv', 'Meas (149).csv', 'Meas (15).csv', 'Meas (150).csv', 'Meas (151).csv', 'Meas (152).csv', 'Meas (153).csv', 'Meas (154).csv', 'Meas (155).csv', 'Meas (156).csv', 'Meas (157).csv', 'Meas (158).csv', 'Meas (159).csv', 'Meas (16).csv', 'Meas (160).csv', 'Meas (161).csv', 'Meas (162).csv', 'Meas (163).csv', 'Meas (164).csv', 'Meas (165).csv', 'Meas (166).csv', 'Meas (167).csv', 'Meas (168).csv', 'Meas (169).csv', 'Meas (17).csv', 'Meas (170).csv', 'Meas (171).csv', 'Meas (172).csv', 'Meas (173).csv', 'Meas (174).csv', 'Meas (175).csv', 'Meas (176).csv', 'Meas (177).csv', 'Meas (178).csv', 'Meas (179).csv', 'Meas (18).csv', 'Meas (180).csv', 'Meas (181).csv', 'Meas (182).csv', 'Meas (183).csv', 'Meas (184).csv', 'Meas (185).csv', 'Meas (186).csv', 'Meas (187).csv', 'Meas (188).csv', 'Meas (189).csv', 'Meas (19).csv', 'Meas (190).csv', 'Meas (191).csv', 'Meas (192).csv', 'Meas (193).csv', 'Meas (194).csv', 'Meas (195).csv', 'Meas (196).csv', 'Meas (197).csv', 'Meas (198).csv', 'Meas (199).csv', 'Meas (2).csv', 'Meas (20).csv', 'Meas (200).csv', 'Meas (201).csv', 'Meas (202).csv', 'Meas (203).csv', 'Meas (204).csv', 'Meas (205).csv', 'Meas (206).csv', 'Meas (207).csv', 'Meas (208).csv', 'Meas (209).csv', 'Meas (21).csv', 'Meas (210).csv', 'Meas (211).csv', 'Meas (212).csv', 'Meas (213).csv', 'Meas (214).csv', 'Meas (215).csv', 'Meas (216).csv', 'Meas (217).csv', 'Meas (218).csv', 'Meas (219).csv', 'Meas (22).csv', 'Meas (220).csv', 'Meas (221).csv', 'Meas (222).csv', 'Meas (223).csv', 'Meas (224).csv', 'Meas (225).csv', 'Meas (226).csv', 'Meas (227).csv', 'Meas (228).csv', 'Meas (229).csv', 'Meas (23).csv', 'Meas (230).csv', 'Meas (231).csv', 'Meas (232).csv', 'Meas (233).csv', 'Meas (234).csv', 'Meas (235).csv', 'Meas (236).csv', 'Meas (237).csv', 'Meas (238).csv', 'Meas (239).csv', 'Meas (24).csv', 'Meas (240).csv', 'Meas (241).csv', 'Meas (242).csv', 'Meas (243).csv', 'Meas (244).csv', 'Meas (245).csv', 'Meas (246).csv', 'Meas (247).csv', 'Meas (248).csv', 'Meas (249).csv', 'Meas (25).csv', 'Meas (250).csv', 'Meas (251).csv', 'Meas (252).csv', 'Meas (253).csv', 'Meas (254).csv', 'Meas (255).csv', 'Meas (256).csv', 'Meas (257).csv', 'Meas (258).csv', 'Meas (259).csv', 'Meas (26).csv', 'Meas (260).csv', 'Meas (261).csv', 'Meas (262).csv', 'Meas (263).csv', 'Meas (264).csv', 'Meas (265).csv', 'Meas (266).csv', 'Meas (267).csv', 'Meas (268).csv', 'Meas (269).csv', 'Meas (27).csv', 'Meas (270).csv', 'Meas (271).csv', 'Meas (272).csv', 'Meas (273).csv', 'Meas (274).csv', 'Meas (275).csv', 'Meas (276).csv', 'Meas (277).csv', 'Meas (278).csv', 'Meas (279).csv', 'Meas (28).csv', 'Meas (280).csv', 'Meas (281).csv', 'Meas (282).csv', 'Meas (283).csv', 'Meas (284).csv', 'Meas (285).csv', 'Meas (286).csv', 'Meas (287).csv', 'Meas (288).csv', 'Meas (289).csv', 'Meas (29).csv', 'Meas (290).csv', 'Meas (291).csv', 'Meas (292).csv', 'Meas (293).csv', 'Meas (294).csv', 'Meas (295).csv', 'Meas (296).csv', 'Meas (297).csv', 'Meas (298).csv', 'Meas (299).csv', 'Meas (3).csv', 'Meas (30).csv', 'Meas (31).csv', 'Meas (32).csv', 'Meas (33).csv', 'Meas (34).csv', 'Meas (35).csv', 'Meas (36).csv', 'Meas (37).csv', 'Meas (38).csv', 'Meas (39).csv', 'Meas (4).csv', 'Meas (40).csv', 'Meas (41).csv', 'Meas (42).csv', 'Meas (43).csv', 'Meas (44).csv', 'Meas (45).csv', 'Meas (46).csv', 'Meas (47).csv', 'Meas (48).csv', 'Meas (49).csv', 'Meas (5).csv', 'Meas (50).csv', 'Meas (51).csv', 'Meas (52).csv', 'Meas (53).csv', 'Meas (54).csv', 'Meas (55).csv', 'Meas (56).csv', 'Meas (57).csv', 'Meas (58).csv', 'Meas (59).csv', 'Meas (6).csv', 'Meas (60).csv', 'Meas (61).csv', 'Meas (62).csv', 'Meas (63).csv', 'Meas (64).csv', 'Meas (65).csv', 'Meas (66).csv', 'Meas (67).csv', 'Meas (68).csv', 'Meas (69).csv', 'Meas (7).csv', 'Meas (70).csv', 'Meas (71).csv', 'Meas (72).csv', 'Meas (73).csv', 'Meas (74).csv', 'Meas (75).csv', 'Meas (76).csv', 'Meas (77).csv', 'Meas (78).csv', 'Meas (79).csv', 'Meas (8).csv', 'Meas (80).csv', 'Meas (81).csv', 'Meas (82).csv', 'Meas (83).csv', 'Meas (84).csv', 'Meas (85).csv', 'Meas (86).csv', 'Meas (87).csv', 'Meas (88).csv', 'Meas (89).csv', 'Meas (9).csv', 'Meas (90).csv', 'Meas (91).csv', 'Meas (92).csv', 'Meas (93).csv', 'Meas (94).csv', 'Meas (95).csv', 'Meas (96).csv', 'Meas (97).csv', 'Meas (98).csv', 'Meas (99).csv']\n"
     ]
    },
    {
     "data": {
      "text/html": [
       "<div>\n",
       "<style>\n",
       "    .dataframe thead tr:only-child th {\n",
       "        text-align: right;\n",
       "    }\n",
       "\n",
       "    .dataframe thead th {\n",
       "        text-align: left;\n",
       "    }\n",
       "\n",
       "    .dataframe tbody tr th {\n",
       "        vertical-align: top;\n",
       "    }\n",
       "</style>\n",
       "<table border=\"1\" class=\"dataframe\">\n",
       "  <thead>\n",
       "    <tr style=\"text-align: right;\">\n",
       "      <th></th>\n",
       "      <th>50khZ</th>\n",
       "      <th>100khZ</th>\n",
       "      <th>150khZ</th>\n",
       "      <th>200khZ</th>\n",
       "      <th>250khZ</th>\n",
       "      <th>300khZ</th>\n",
       "      <th>350khZ</th>\n",
       "      <th>400khZ</th>\n",
       "      <th>450khZ</th>\n",
       "      <th>500khZ</th>\n",
       "      <th>Diagnosis</th>\n",
       "    </tr>\n",
       "    <tr>\n",
       "      <th>Pin</th>\n",
       "      <th></th>\n",
       "      <th></th>\n",
       "      <th></th>\n",
       "      <th></th>\n",
       "      <th></th>\n",
       "      <th></th>\n",
       "      <th></th>\n",
       "      <th></th>\n",
       "      <th></th>\n",
       "      <th></th>\n",
       "      <th></th>\n",
       "    </tr>\n",
       "  </thead>\n",
       "  <tbody>\n",
       "    <tr>\n",
       "      <th>1</th>\n",
       "      <td>18</td>\n",
       "      <td>34</td>\n",
       "      <td>33</td>\n",
       "      <td>88</td>\n",
       "      <td>95</td>\n",
       "      <td>180</td>\n",
       "      <td>105</td>\n",
       "      <td>200</td>\n",
       "      <td>252</td>\n",
       "      <td>220</td>\n",
       "      <td>F10_300</td>\n",
       "    </tr>\n",
       "    <tr>\n",
       "      <th>2</th>\n",
       "      <td>16</td>\n",
       "      <td>58</td>\n",
       "      <td>69</td>\n",
       "      <td>84</td>\n",
       "      <td>145</td>\n",
       "      <td>114</td>\n",
       "      <td>189</td>\n",
       "      <td>224</td>\n",
       "      <td>216</td>\n",
       "      <td>240</td>\n",
       "      <td>F10_300</td>\n",
       "    </tr>\n",
       "    <tr>\n",
       "      <th>3</th>\n",
       "      <td>26</td>\n",
       "      <td>30</td>\n",
       "      <td>66</td>\n",
       "      <td>64</td>\n",
       "      <td>145</td>\n",
       "      <td>114</td>\n",
       "      <td>210</td>\n",
       "      <td>120</td>\n",
       "      <td>153</td>\n",
       "      <td>110</td>\n",
       "      <td>F10_300</td>\n",
       "    </tr>\n",
       "    <tr>\n",
       "      <th>4</th>\n",
       "      <td>30</td>\n",
       "      <td>44</td>\n",
       "      <td>78</td>\n",
       "      <td>92</td>\n",
       "      <td>130</td>\n",
       "      <td>156</td>\n",
       "      <td>98</td>\n",
       "      <td>128</td>\n",
       "      <td>126</td>\n",
       "      <td>170</td>\n",
       "      <td>F10_300</td>\n",
       "    </tr>\n",
       "    <tr>\n",
       "      <th>5</th>\n",
       "      <td>25</td>\n",
       "      <td>46</td>\n",
       "      <td>69</td>\n",
       "      <td>84</td>\n",
       "      <td>105</td>\n",
       "      <td>156</td>\n",
       "      <td>210</td>\n",
       "      <td>104</td>\n",
       "      <td>243</td>\n",
       "      <td>150</td>\n",
       "      <td>F10_300</td>\n",
       "    </tr>\n",
       "  </tbody>\n",
       "</table>\n",
       "</div>"
      ],
      "text/plain": [
       "     50khZ  100khZ  150khZ  200khZ  250khZ  300khZ  350khZ  400khZ  450khZ  \\\n",
       "Pin                                                                          \n",
       "1       18      34      33      88      95     180     105     200     252   \n",
       "2       16      58      69      84     145     114     189     224     216   \n",
       "3       26      30      66      64     145     114     210     120     153   \n",
       "4       30      44      78      92     130     156      98     128     126   \n",
       "5       25      46      69      84     105     156     210     104     243   \n",
       "\n",
       "     500khZ Diagnosis  \n",
       "Pin                    \n",
       "1       220   F10_300  \n",
       "2       240   F10_300  \n",
       "3       110   F10_300  \n",
       "4       170   F10_300  \n",
       "5       150   F10_300  "
      ]
     },
     "execution_count": 7,
     "metadata": {},
     "output_type": "execute_result"
    }
   ],
   "source": [
    "# Step1: Read & Manipulate data\n",
    "data_set = pd.DataFrame()\n",
    "\n",
    "directory_path = 'C:\\\\Users\\\\Alex\\\\Desktop\\\\DS DNN basic functions\\\\10_300'\n",
    "data_set_1 = read_data_set(data_set, pattern = '*.csv')\n",
    "data_set_1['Diagnosis'] = read_diagnosis(data_set)\n",
    "\n",
    "directory_path = 'C:\\\\Users\\\\Alex\\\\Desktop\\\\DS DNN basic functions\\\\30_900'\n",
    "data_set_2 = read_data_set(data_set, pattern = '*.csv')\n",
    "data_set_2['Diagnosis'] = read_diagnosis(data_set)\n",
    "\n",
    "data_set = pd.concat([data_set_1, data_set_2])\n",
    "\n",
    "data_set.head()\n",
    "#display(data_set) # only jupyter notebook"
   ]
  },
  {
   "cell_type": "markdown",
   "metadata": {},
   "source": [
    "## Step 2"
   ]
  },
  {
   "cell_type": "code",
   "execution_count": 8,
   "metadata": {},
   "outputs": [
    {
     "name": "stdout",
     "output_type": "stream",
     "text": [
      "Training set size: 35376\n",
      "Test set size: 17424\n"
     ]
    }
   ],
   "source": [
    "# Step2: Data Handling for NN Model\n",
    "# If diagnosis is F10_300: Output(y)=0, If diagnosis is F30_900: Output(y)=1\n",
    "train_data_set = pd.DataFrame()\n",
    "train_data_set, X_train, X_test, Y_train, Y_test = train_data_handling()\n",
    "print ('Training set size:', X_train.size+Y_train.size)\n",
    "print ('Test set size:', X_test.size+Y_test.size)\n",
    "#display(train_data_set) # only for Jupyter"
   ]
  },
  {
   "cell_type": "markdown",
   "metadata": {},
   "source": [
    "## Step 3&4"
   ]
  },
  {
   "cell_type": "code",
   "execution_count": 9,
   "metadata": {},
   "outputs": [
    {
     "ename": "NameError",
     "evalue": "name 'model' is not defined",
     "output_type": "error",
     "traceback": [
      "\u001b[1;31m---------------------------------------------------------------------------\u001b[0m",
      "\u001b[1;31mNameError\u001b[0m                                 Traceback (most recent call last)",
      "\u001b[1;32m<ipython-input-9-3943d4ad5076>\u001b[0m in \u001b[0;36m<module>\u001b[1;34m()\u001b[0m\n\u001b[0;32m      1\u001b[0m \u001b[0mK\u001b[0m\u001b[1;33m.\u001b[0m\u001b[0mclear_session\u001b[0m\u001b[1;33m(\u001b[0m\u001b[1;33m)\u001b[0m \u001b[1;31m# Clear previous \"model\" parameters, for testing\u001b[0m\u001b[1;33m\u001b[0m\u001b[0m\n\u001b[1;32m----> 2\u001b[1;33m \u001b[1;32mdel\u001b[0m \u001b[0mmodel\u001b[0m\u001b[1;33m\u001b[0m\u001b[0m\n\u001b[0m",
      "\u001b[1;31mNameError\u001b[0m: name 'model' is not defined"
     ]
    }
   ],
   "source": [
    "K.clear_session() # Clear previous \"model\" parameters, for testing\n",
    "del model"
   ]
  },
  {
   "cell_type": "code",
   "execution_count": 10,
   "metadata": {},
   "outputs": [
    {
     "name": "stdout",
     "output_type": "stream",
     "text": [
      "  32/1584 [..............................] - ETA: 0s\n",
      "Train Accuracy: 100.00%\n",
      "Test Accuracy: 100.00%\n",
      "Difference: : 0.00%\n",
      "-------------\n",
      "_________________________________________________________________\n",
      "Layer (type)                 Output Shape              Param #   \n",
      "=================================================================\n",
      "dense_1 (Dense)              (None, 8)                 88        \n",
      "_________________________________________________________________\n",
      "dense_2 (Dense)              (None, 3)                 27        \n",
      "_________________________________________________________________\n",
      "dense_3 (Dense)              (None, 2)                 8         \n",
      "_________________________________________________________________\n",
      "dense_4 (Dense)              (None, 1)                 3         \n",
      "=================================================================\n",
      "Total params: 126\n",
      "Trainable params: 126\n",
      "Non-trainable params: 0\n",
      "_________________________________________________________________\n"
     ]
    },
    {
     "data": {
      "image/png": "[encoded data removed]",
      "text/plain": [
       "<matplotlib.figure.Figure at 0x187fe8fe588>"
      ]
     },
     "metadata": {},
     "output_type": "display_data"
    }
   ],
   "source": [
    "# Step3: Train NN Model \n",
    "# x:Input dimesnsions, l:Layer size, a:Activation function, ep:Epochs\n",
    "input_shape = X_train.shape[1]\n",
    "score_train, score_test, accuracy_train, accuracy_test, model, history = train_NN( \n",
    "    x=input_shape, batch=32, ep=40,\n",
    "    l1=8, r1=0, l2=3, r2=0, l3=2, l4=1,\n",
    "    a1='relu', a2='linear', a3='linear', a4='sigmoid')\n",
    "# Step4: Visual NN's Train and Test accuracy\n",
    "visual() "
   ]
  },
  {
   "cell_type": "markdown",
   "metadata": {},
   "source": [
    "## Prediction using the Test Set"
   ]
  },
  {
   "cell_type": "code",
   "execution_count": 11,
   "metadata": {},
   "outputs": [
    {
     "name": "stdout",
     "output_type": "stream",
     "text": [
      "Pred: 0  Y: 0 | [[0.23540835]]\n",
      "Pred: 0  Y: 0 | [[0.1892148]]\n",
      "Pred: 1  Y: 1 | [[0.91146916]]\n",
      "Pred: 0  Y: 0 | [[0.18069999]]\n",
      "Pred: 1  Y: 1 | [[0.9464434]]\n",
      "Pred: 1  Y: 1 | [[0.9737584]]\n",
      "Pred: 1  Y: 1 | [[0.94694316]]\n",
      "Pred: 0  Y: 0 | [[0.21590054]]\n",
      "Pred: 1  Y: 1 | [[0.94803905]]\n",
      "Pred: 0  Y: 0 | [[0.18189661]]\n",
      "Pred: 0  Y: 0 | [[0.13387582]]\n",
      "Pred: 1  Y: 1 | [[0.92765]]\n"
     ]
    },
    {
     "name": "stdout",
     "output_type": "stream",
     "text": [
      "Pred: 1  Y: 1 | [[0.97338593]]\n",
      "Pred: 1  Y: 1 | [[0.9571882]]\n",
      "Pred: 1  Y: 1 | [[0.9718563]]\n",
      "Pred: 0  Y: 0 | [[0.20351613]]\n",
      "Pred: 0  Y: 0 | [[0.17605981]]\n",
      "..."
     ]
    },
    {
     "name": "stdout",
     "output_type": "stream",
     "text": [
      "Pred: 1  Y: 1 | [[0.93647814]]\n",
      "Pred: 1  Y: 1 | [[0.982976]]\n",
      "Pred: 1  Y: 1 | [[0.9432704]]\n",
      "Pred: 1  Y: 1 | [[0.9279447]]\n",
      "Pred: 0  Y: 0 | [[0.15148364]]\n",
      "Pred: 0  Y: 0 | [[0.202763]]\n",
      "Pred: 1  Y: 1 | [[0.9801446]]\n",
      "Pred: 0  Y: 0 | [[0.21548529]]\n",
      "Pred: 1  Y: 1 | [[0.9729063]]\n"
     ]
    },
    {
     "name": "stdout",
     "output_type": "stream",
     "text": [
      "Pred: 0  Y: 0 | [[0.23549889]]\n",
      "Pred: 1  Y: 1 | [[0.8954514]]\n",
      "Pred: 1  Y: 1 | [[0.8758965]]\n",
      "Pred: 1  Y: 1 | [[0.95607936]]\n",
      "Pred: 0  Y: 0 | [[0.22237751]]\n",
      "Pred: 1  Y: 1 | [[0.9861282]]\n",
      "Pred: 0  Y: 0 | [[0.28975442]]\n",
      "Correctly Classified samples:  1584\n",
      "From a total number of 1584\n",
      "\n",
      "Classifier Accuracy \n",
      "on Test Data Set: 100.00%\n"
     ]
    }
   ],
   "source": [
    "# Classify all values in \"TEST Data Set\"\n",
    "# Check if prediction is the same as the Test set actual output\n",
    "correct = 0 \n",
    "\n",
    "for i in range(X_test.shape[0]):\n",
    "    data = np.array(X_test[i])\n",
    "    data = np.reshape(data, (1,input_shape)) # input_shape: see previous step\n",
    "    prediction = model.predict(data)\n",
    "    if prediction>=0.5: p = 1 # P: Variable to save prediction as integer\n",
    "    if prediction<0.5: p = 0\n",
    "    print ('Pred:', p, ' Y:', Y_test[i], '|', prediction)\n",
    "    if p==Y_test[i]: correct += 1 \n",
    "        \n",
    "#K.clear_session() # Clear model's parameters\n",
    "    \n",
    "print('Correctly Classified samples: ', correct)\n",
    "print('From a total number of %s' %X_test.shape[0]) \n",
    "print('\\nClassifier Accuracy \\non Test Data Set: %.2f%%' %( (correct/X_test.shape[0])*100) )\n"
   ]
  },
  {
   "cell_type": "code",
   "execution_count": null,
   "metadata": {
    "collapsed": true
   },
   "outputs": [],
   "source": []
  }
 ],
 "metadata": {
  "kernelspec": {
   "display_name": "Python 3",
   "language": "python",
   "name": "python3"
  },
  "language_info": {
   "codemirror_mode": {
    "name": "ipython",
    "version": 3
   },
   "file_extension": ".py",
   "mimetype": "text/x-python",
   "name": "python",
   "nbconvert_exporter": "python",
   "pygments_lexer": "ipython3",
   "version": "3.5.4"
  }
 },
 "nbformat": 4,
 "nbformat_minor": 2
}
