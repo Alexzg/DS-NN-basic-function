{
 "cells": [
  {
   "cell_type": "markdown",
   "metadata": {},
   "source": [
    "# DS NN Training"
   ]
  },
  {
   "cell_type": "code",
   "execution_count": 1,
   "metadata": {},
   "outputs": [
    {
     "name": "stderr",
     "output_type": "stream",
     "text": [
      "C:\\Secondary_Program_Folder\\envs\\DeepLearningLearning1\\lib\\site-packages\\h5py\\__init__.py:36: FutureWarning: Conversion of the second argument of issubdtype from `float` to `np.floating` is deprecated. In future, it will be treated as `np.float64 == np.dtype(float).type`.\n",
      "  from ._conv import register_converters as _register_converters\n",
      "Using TensorFlow backend.\n"
     ]
    }
   ],
   "source": [
    "from keras.models import Sequential\n",
    "from keras.layers import Dense\n",
    "from keras.callbacks import ModelCheckpoint\n",
    "from keras.utils import np_utils\n",
    "from keras import regularizers\n",
    "from keras import backend as K # Tensorflow\n",
    "from sklearn.model_selection import train_test_split\n",
    "\n",
    "import numpy as np\n",
    "import pandas as pd\n",
    "import os, fnmatch\n",
    "import seaborn as sns\n",
    "import matplotlib.pyplot as plt"
   ]
  },
  {
   "cell_type": "markdown",
   "metadata": {},
   "source": [
    "## Step 1: Read data"
   ]
  },
  {
   "cell_type": "code",
   "execution_count": 2,
   "metadata": {
    "collapsed": true,
    "scrolled": true
   },
   "outputs": [],
   "source": [
    "def read_data_set(data_set, pattern):\n",
    "    list_ = []\n",
    "    pin_id = ['1','2','3','4','5','6','7','8'] # Electrode(Pin) id names\n",
    "    # Find Measurement(x).csv files in folder =======================================\n",
    "    directory = os.listdir(directory_path)# Import directory's file names\n",
    "    sum_files = 0\n",
    "    files = [] # Create the list of Measurement files\n",
    "    for file in directory:\n",
    "        if fnmatch.fnmatch(file, pattern): # Check if True -> \"file.pattern\"\n",
    "            data = pd.read_csv(directory_path+\"\\\\\"+file, delimiter=',', header=None)\n",
    "            data.index = pin_id # Chenge index pin id number\n",
    "            list_.append(data) # Put all data in a list for later use\n",
    "            files.append(file) # \n",
    "            sum_files += 1 \n",
    "    data_set = pd.concat(list_)# Make the list a dataframe\n",
    "    data_set.columns = ['50khZ','100khZ','150khZ','200khZ','250khZ','300khZ','350khZ','400khZ','450khZ','500khZ']\n",
    "    data_set.index.name = 'Pin'\n",
    "    print (\"Size of DataFrame:\", data_set.shape)\n",
    "    print ('Path: ',directory_path)\n",
    "    #print ('Imported files for Training :', files)\n",
    "    return data_set"
   ]
  },
  {
   "cell_type": "code",
   "execution_count": 3,
   "metadata": {
    "collapsed": true
   },
   "outputs": [],
   "source": [
    "def read_diagnosis(data_set):\n",
    "    directory = os.listdir(directory_path)# Import directory's file names\n",
    "    file = 'Diagnosis.txt'\n",
    "    if file in directory:\n",
    "        data_set = pd.read_csv(directory_path+\"\\\\\"+file, header=None)\n",
    "    return data_set.loc[0][0]"
   ]
  },
  {
   "cell_type": "markdown",
   "metadata": {},
   "source": [
    "## Step 2: Create Training set from data"
   ]
  },
  {
   "cell_type": "code",
   "execution_count": 4,
   "metadata": {
    "collapsed": true
   },
   "outputs": [],
   "source": [
    "def train_data_handling(): \n",
    "    train_data_set = data_set.copy()\n",
    "    # Change name of columns for easier optical distinction\n",
    "    train_data_set.columns=['x1', 'x2', 'x3', 'x4', 'x5', 'x6', 'x7', 'x8', 'x9', 'x10', 'y'] \n",
    "    \n",
    "    mask = train_data_set['y'] == 'F10_300'\n",
    "    train_data_set.loc[mask, 'y'] = 0\n",
    "    mask = train_data_set['y'] == 'F30_900'\n",
    "    train_data_set.loc[mask, 'y'] = 1\n",
    "    mask = train_data_set['y'] == 'F100_200'\n",
    "    train_data_set.loc[mask, 'y'] = 2\n",
    "    mask = train_data_set['y'] == 'F310_3300'\n",
    "    train_data_set.loc[mask, 'y'] = 3\n",
    "    \n",
    "    #X: Input, Y: Output\n",
    "    X, Y = train_data_set.drop('y', axis=1).values , train_data_set['y'].values\n",
    "    X_train, X_test, Y_train, Y_test = train_test_split(X, Y, test_size=0.33, random_state=42)\n",
    "    \n",
    "    Y_train = np_utils.to_categorical(Y_train) # Make Y (Class) -> Array of Categorical matrices\n",
    "    Y_test = np_utils.to_categorical(Y_test) # e.g Label1 -> [1 0 0 0]\n",
    "    \n",
    "    return train_data_set, X_train, X_test, Y_train, Y_test"
   ]
  },
  {
   "cell_type": "markdown",
   "metadata": {},
   "source": [
    "## Step 3: Train NN"
   ]
  },
  {
   "cell_type": "code",
   "execution_count": 5,
   "metadata": {
    "collapsed": true
   },
   "outputs": [],
   "source": [
    "def train_NN(x,batch,l1,l2,l3,l4,r1,r2,a1,a2,a3,a4,ep):\n",
    "    # Model, Layers, Regularizers\n",
    "    model = Sequential()\n",
    "    model.add(Dense(l1, input_dim=x, activation=a1))\n",
    "    #model.add(Dense(r1, activity_regularizer=regularizers.l1(0.1))) # regularizer\n",
    "    model.add(Dense(l2, activation=a2))\n",
    "    #model.add(Dense(r2, activity_regularizer=regularizers.l1(0.3))) # regularizer\n",
    "    model.add(Dense(l3, activation=a3))\n",
    "    model.add(Dense(l4, activation=a4))\n",
    "    # Model Train\n",
    "    accuracy_train, accuracy_test = [], []\n",
    " \n",
    "    # Model initialization\n",
    "    model.compile(loss='categorical_crossentropy', optimizer='adam', metrics=['accuracy']);\n",
    "    history = model.fit(X_train, Y_train, validation_data=(X_test,Y_test), batch_size=batch, \n",
    "              epochs=ep, shuffle=True, verbose=0)\n",
    "    # Model test, Evaluate=['loss','acc']\n",
    "    score_train = model.evaluate(X_train, Y_train, batch_size=batch)\n",
    "    score_test = model.evaluate(X_test, Y_test, batch_size=batch)\n",
    "    accuracy_train = score_train[1]*100 # Keep scores for visual\n",
    "    accuracy_test = score_test[1]*100 # Keep scores for visual\n",
    "    \n",
    "    print(\"\\n%s: %.2f%%\" % ('Train Accuracy', score_train[1]*100))\n",
    "    print(\"%s: %.2f%%\" % ('Test Accuracy', score_test[1]*100))\n",
    "    print(\"%s: %.2f\" % ('Difference ', accuracy_train-accuracy_test))\n",
    "    print('-------------')\n",
    "    model.summary()\n",
    "    return score_train, score_test, accuracy_train, accuracy_test, model, history"
   ]
  },
  {
   "cell_type": "markdown",
   "metadata": {},
   "source": [
    "## Step 4: Visual"
   ]
  },
  {
   "cell_type": "code",
   "execution_count": 6,
   "metadata": {
    "collapsed": true
   },
   "outputs": [],
   "source": [
    "def visual(): \n",
    "    '''\n",
    "    val_train = pd.DataFrame(accuracy_train)\n",
    "    val_train['score_type'] = 'Train accuracy'\n",
    "    val_test = pd.DataFrame(accuracy_test)\n",
    "    val_test['score_type'] = 'Test accuracy'\n",
    "    val = pd.concat([val_train, val_test])\n",
    "    val.columns = ['Accuracy%', 'Error type']\n",
    "    val.index.name = 'Iteration'\n",
    "    \n",
    "    fg1 = sns.pointplot(x=val.index, y='Accuracy%', data=val, hue='Error type')\n",
    "    plt.show()\n",
    "    '''\n",
    "    plt.plot(history.history['acc'])\n",
    "    plt.plot(history.history['val_acc'])\n",
    "    plt.title('Model Accuracy')\n",
    "    plt.ylabel('Accuracy')\n",
    "    plt.xlabel('Epoch')\n",
    "    plt.legend(['Train', 'Test'], loc='upper left')\n",
    "    plt.show()\n",
    "    \n",
    "    \n",
    "    return "
   ]
  },
  {
   "cell_type": "markdown",
   "metadata": {},
   "source": [
    "# MAIN PROGRAM"
   ]
  },
  {
   "cell_type": "markdown",
   "metadata": {},
   "source": [
    "## Step 1"
   ]
  },
  {
   "cell_type": "code",
   "execution_count": 7,
   "metadata": {},
   "outputs": [
    {
     "name": "stdout",
     "output_type": "stream",
     "text": [
      "Size of DataFrame: (2400, 10)\n",
      "Path:  C:\\Users\\Alex\\Desktop\\DS DNN basic functions\\10_300\n",
      "Size of DataFrame: (2400, 10)\n",
      "Path:  C:\\Users\\Alex\\Desktop\\DS DNN basic functions\\30_900\n",
      "Size of DataFrame: (2400, 10)\n",
      "Path:  C:\\Users\\Alex\\Desktop\\DS DNN basic functions\\100_200\n",
      "Size of DataFrame: (2400, 10)\n",
      "Path:  C:\\Users\\Alex\\Desktop\\DS DNN basic functions\\310_3300\n",
      "(9600, 11)\n"
     ]
    },
    {
     "data": {
      "text/html": [
       "<div>\n",
       "<style>\n",
       "    .dataframe thead tr:only-child th {\n",
       "        text-align: right;\n",
       "    }\n",
       "\n",
       "    .dataframe thead th {\n",
       "        text-align: left;\n",
       "    }\n",
       "\n",
       "    .dataframe tbody tr th {\n",
       "        vertical-align: top;\n",
       "    }\n",
       "</style>\n",
       "<table border=\"1\" class=\"dataframe\">\n",
       "  <thead>\n",
       "    <tr style=\"text-align: right;\">\n",
       "      <th></th>\n",
       "      <th>50khZ</th>\n",
       "      <th>100khZ</th>\n",
       "      <th>150khZ</th>\n",
       "      <th>200khZ</th>\n",
       "      <th>250khZ</th>\n",
       "      <th>300khZ</th>\n",
       "      <th>350khZ</th>\n",
       "      <th>400khZ</th>\n",
       "      <th>450khZ</th>\n",
       "      <th>500khZ</th>\n",
       "      <th>Diagnosis</th>\n",
       "    </tr>\n",
       "    <tr>\n",
       "      <th>Pin</th>\n",
       "      <th></th>\n",
       "      <th></th>\n",
       "      <th></th>\n",
       "      <th></th>\n",
       "      <th></th>\n",
       "      <th></th>\n",
       "      <th></th>\n",
       "      <th></th>\n",
       "      <th></th>\n",
       "      <th></th>\n",
       "      <th></th>\n",
       "    </tr>\n",
       "  </thead>\n",
       "  <tbody>\n",
       "    <tr>\n",
       "      <th>1</th>\n",
       "      <td>18</td>\n",
       "      <td>34</td>\n",
       "      <td>33</td>\n",
       "      <td>88</td>\n",
       "      <td>95</td>\n",
       "      <td>180</td>\n",
       "      <td>105</td>\n",
       "      <td>200</td>\n",
       "      <td>252</td>\n",
       "      <td>220</td>\n",
       "      <td>F10_300</td>\n",
       "    </tr>\n",
       "    <tr>\n",
       "      <th>2</th>\n",
       "      <td>16</td>\n",
       "      <td>58</td>\n",
       "      <td>69</td>\n",
       "      <td>84</td>\n",
       "      <td>145</td>\n",
       "      <td>114</td>\n",
       "      <td>189</td>\n",
       "      <td>224</td>\n",
       "      <td>216</td>\n",
       "      <td>240</td>\n",
       "      <td>F10_300</td>\n",
       "    </tr>\n",
       "    <tr>\n",
       "      <th>3</th>\n",
       "      <td>26</td>\n",
       "      <td>30</td>\n",
       "      <td>66</td>\n",
       "      <td>64</td>\n",
       "      <td>145</td>\n",
       "      <td>114</td>\n",
       "      <td>210</td>\n",
       "      <td>120</td>\n",
       "      <td>153</td>\n",
       "      <td>110</td>\n",
       "      <td>F10_300</td>\n",
       "    </tr>\n",
       "    <tr>\n",
       "      <th>4</th>\n",
       "      <td>30</td>\n",
       "      <td>44</td>\n",
       "      <td>78</td>\n",
       "      <td>92</td>\n",
       "      <td>130</td>\n",
       "      <td>156</td>\n",
       "      <td>98</td>\n",
       "      <td>128</td>\n",
       "      <td>126</td>\n",
       "      <td>170</td>\n",
       "      <td>F10_300</td>\n",
       "    </tr>\n",
       "    <tr>\n",
       "      <th>5</th>\n",
       "      <td>25</td>\n",
       "      <td>46</td>\n",
       "      <td>69</td>\n",
       "      <td>84</td>\n",
       "      <td>105</td>\n",
       "      <td>156</td>\n",
       "      <td>210</td>\n",
       "      <td>104</td>\n",
       "      <td>243</td>\n",
       "      <td>150</td>\n",
       "      <td>F10_300</td>\n",
       "    </tr>\n",
       "  </tbody>\n",
       "</table>\n",
       "</div>"
      ],
      "text/plain": [
       "     50khZ  100khZ  150khZ  200khZ  250khZ  300khZ  350khZ  400khZ  450khZ  \\\n",
       "Pin                                                                          \n",
       "1       18      34      33      88      95     180     105     200     252   \n",
       "2       16      58      69      84     145     114     189     224     216   \n",
       "3       26      30      66      64     145     114     210     120     153   \n",
       "4       30      44      78      92     130     156      98     128     126   \n",
       "5       25      46      69      84     105     156     210     104     243   \n",
       "\n",
       "     500khZ Diagnosis  \n",
       "Pin                    \n",
       "1       220   F10_300  \n",
       "2       240   F10_300  \n",
       "3       110   F10_300  \n",
       "4       170   F10_300  \n",
       "5       150   F10_300  "
      ]
     },
     "execution_count": 7,
     "metadata": {},
     "output_type": "execute_result"
    }
   ],
   "source": [
    "# Step1: Read & Manipulate data\n",
    "data_set = pd.DataFrame()\n",
    "\n",
    "directory_path = 'C:\\\\Users\\\\Alex\\\\Desktop\\\\DS DNN basic functions\\\\10_300'\n",
    "data_set_1 = read_data_set(data_set, pattern = '*.csv')\n",
    "data_set_1['Diagnosis'] = read_diagnosis(data_set)\n",
    "\n",
    "directory_path = 'C:\\\\Users\\\\Alex\\\\Desktop\\\\DS DNN basic functions\\\\30_900'\n",
    "data_set_2 = read_data_set(data_set, pattern = '*.csv')\n",
    "data_set_2['Diagnosis'] = read_diagnosis(data_set)\n",
    "\n",
    "directory_path = 'C:\\\\Users\\\\Alex\\\\Desktop\\\\DS DNN basic functions\\\\100_200'\n",
    "data_set_3 = read_data_set(data_set, pattern = '*.csv')\n",
    "data_set_3['Diagnosis'] = read_diagnosis(data_set)\n",
    "\n",
    "directory_path = 'C:\\\\Users\\\\Alex\\\\Desktop\\\\DS DNN basic functions\\\\310_3300'\n",
    "data_set_4 = read_data_set(data_set, pattern = '*.csv')\n",
    "data_set_4['Diagnosis'] = read_diagnosis(data_set)\n",
    "\n",
    "data_set = pd.concat([data_set_1, data_set_2, data_set_3, data_set_4])\n",
    "print (data_set.shape)\n",
    "data_set.head()\n",
    "#display(data_set) # only jupyter notebook"
   ]
  },
  {
   "cell_type": "markdown",
   "metadata": {},
   "source": [
    "## Step 2"
   ]
  },
  {
   "cell_type": "code",
   "execution_count": 8,
   "metadata": {},
   "outputs": [
    {
     "name": "stdout",
     "output_type": "stream",
     "text": [
      "Training set size: 90048\n",
      "Test set size: 44352\n"
     ]
    }
   ],
   "source": [
    "# Step2: Data Handling for NN Model\n",
    "# If diagnosis is F10_300: Output(y)=0, If diagnosis is F30_900: Output(y)=1\n",
    "train_data_set = pd.DataFrame()\n",
    "train_data_set, X_train, X_test, Y_train, Y_test = train_data_handling()\n",
    "print ('Training set size:', X_train.size+Y_train.size)\n",
    "print ('Test set size:', X_test.size+Y_test.size)\n",
    "#display(train_data_set) # only for Jupyter"
   ]
  },
  {
   "cell_type": "markdown",
   "metadata": {},
   "source": [
    "## Step 3&4"
   ]
  },
  {
   "cell_type": "code",
   "execution_count": 9,
   "metadata": {},
   "outputs": [
    {
     "ename": "NameError",
     "evalue": "name 'model' is not defined",
     "output_type": "error",
     "traceback": [
      "\u001b[1;31m---------------------------------------------------------------------------\u001b[0m",
      "\u001b[1;31mNameError\u001b[0m                                 Traceback (most recent call last)",
      "\u001b[1;32m<ipython-input-9-3943d4ad5076>\u001b[0m in \u001b[0;36m<module>\u001b[1;34m()\u001b[0m\n\u001b[0;32m      1\u001b[0m \u001b[0mK\u001b[0m\u001b[1;33m.\u001b[0m\u001b[0mclear_session\u001b[0m\u001b[1;33m(\u001b[0m\u001b[1;33m)\u001b[0m \u001b[1;31m# Clear previous \"model\" parameters, for testing\u001b[0m\u001b[1;33m\u001b[0m\u001b[0m\n\u001b[1;32m----> 2\u001b[1;33m \u001b[1;32mdel\u001b[0m \u001b[0mmodel\u001b[0m\u001b[1;33m\u001b[0m\u001b[0m\n\u001b[0m",
      "\u001b[1;31mNameError\u001b[0m: name 'model' is not defined"
     ]
    }
   ],
   "source": [
    "K.clear_session() # Clear previous \"model\" parameters, for testing\n",
    "del model"
   ]
  },
  {
   "cell_type": "code",
   "execution_count": 10,
   "metadata": {},
   "outputs": [
    {
     "name": "stdout",
     "output_type": "stream",
     "text": [
      "3168/3168 [==============================] - 0s     \n",
      "\n",
      "Train Accuracy: 92.74%\n",
      "Test Accuracy: 93.18%\n",
      "Difference : -0.44\n",
      "-------------\n",
      "_________________________________________________________________\n",
      "Layer (type)                 Output Shape              Param #   \n",
      "=================================================================\n",
      "dense_1 (Dense)              (None, 12)                132       \n",
      "_________________________________________________________________\n",
      "dense_2 (Dense)              (None, 6)                 78        \n",
      "_________________________________________________________________\n",
      "dense_3 (Dense)              (None, 2)                 14        \n",
      "_________________________________________________________________\n",
      "dense_4 (Dense)              (None, 4)                 12        \n",
      "=================================================================\n",
      "Total params: 236\n",
      "Trainable params: 236\n",
      "Non-trainable params: 0\n",
      "_________________________________________________________________\n"
     ]
    },
    {
     "data": {
      "image/png": "[encoded data removed]",
      "text/plain": [
       "<matplotlib.figure.Figure at 0x23fb5da3b00>"
      ]
     },
     "metadata": {},
     "output_type": "display_data"
    }
   ],
   "source": [
    "# Step3: Train NN Model \n",
    "# x:Input dimesnsions, l:Layer dense, a:Activation function, ep:Epochs, r:Regularizer dense\n",
    "input_shape = X_train.shape[1]\n",
    "score_train, score_test, accuracy_train, accuracy_test, model, history = train_NN( \n",
    "    x=input_shape, batch=32, ep=80,\n",
    "    l1=12, r1=0, l2=6, r2=0, l3=2, l4=4,\n",
    "    a1='relu', a2='relu', a3='linear', a4='softmax') # Softmax Layer's Dense = #Classes\n",
    "# Step4: Visual NN's Train and Test accuracy\n",
    "visual() "
   ]
  },
  {
   "cell_type": "markdown",
   "metadata": {},
   "source": [
    "## Prediction using the Test Set"
   ]
  },
  {
   "cell_type": "code",
   "execution_count": 11,
   "metadata": {},
   "outputs": [
    {
     "name": "stdout",
     "output_type": "stream",
     "text": [
      "Pred(Class): 0  Y(Class): 0 | [[9.6017408e-01 3.9499950e-02 3.3248391e-05 2.9282688e-04]]\n",
      "Pred(Class): 3  Y(Class): 3 | [[7.6775244e-03 8.1377453e-05 5.3349402e-05 9.9218774e-01]]\n",
      "Pred(Class): 3  Y(Class): 3 | [[7.6775244e-03 8.1377453e-05 5.3349402e-05 9.9218774e-01]]\n",
      "Pred(Class): 2  Y(Class): 2 | [[9.2954357e-21 2.4255040e-12 1.0000000e+00 5.8235665e-12]]\n",
      "Pred(Class): 3  Y(Class): 3 | [[7.6775244e-03 8.1377453e-05 5.3349402e-05 9.9218774e-01]]\n",
      "Pred(Class): 3  Y(Class): 3 | [[7.6775244e-03 8.1377453e-05 5.3349402e-05 9.9218774e-01]]\n",
      "Pred(Class): 0  Y(Class): 1 | [[8.7048227e-01 1.2951751e-01 1.9791722e-07 1.2293214e-09]]\n",
      "Pred(Class): 0  Y(Class): 1 | [[9.5844722e-01 2.6049841e-02 1.6777101e-04 1.5335176e-02]]\n",
      "Pred(Class): 0  Y(Class): 0 | [[8.0763078e-01 1.9236919e-01 2.9176848e-08 1.2725341e-11]]\n",
      "Pred(Class): 3  Y(Class): 3 | [[7.6775244e-03 8.1377453e-05 5.3349402e-05 9.9218774e-01]]\n",
      "...\n",
      "Correctly Classified samples:  2952\n",
      "From a total number of 3168\n",
      "\n",
      "Classifier Accuracy \n",
      "on Test Data Set: 93.18%\n"
     ]
    }
   ],
   "source": [
    "# Classify all values in \"TEST Data Set\"\n",
    "# Check if prediction is the same as the Test set actual output\n",
    "correct = 0 \n",
    "\n",
    "for i in range(X_test.shape[0]):\n",
    "    data = np.array(X_test[i])\n",
    "    data = np.reshape(data, (1,input_shape)) # input_shape: see previous step\n",
    "    prediction = model.predict(data)\n",
    "    p = prediction.argmax() # Find the index(class) of max prediction value\n",
    "    Y = Y_test[i].argmax()# Find the index(class) of max real Y value\n",
    "    if i<10: print ('Pred(Class):', p, ' Y(Class):', Y, '|', prediction)\n",
    "    if i==10: print ('...')\n",
    "    if p==Y: correct += 1 \n",
    "        \n",
    "#K.clear_session() # Clear model's parameters\n",
    "    \n",
    "print('Correctly Classified samples: ', correct)\n",
    "print('From a total number of %s' %X_test.shape[0]) \n",
    "print('\\nClassifier Accuracy \\non Test Data Set: %.2f%%' %( (correct/X_test.shape[0])*100) )\n"
   ]
  },
  {
   "cell_type": "code",
   "execution_count": null,
   "metadata": {
    "collapsed": true
   },
   "outputs": [],
   "source": []
  }
 ],
 "metadata": {
  "kernelspec": {
   "display_name": "Python 3",
   "language": "python",
   "name": "python3"
  },
  "language_info": {
   "codemirror_mode": {
    "name": "ipython",
    "version": 3
   },
   "file_extension": ".py",
   "mimetype": "text/x-python",
   "name": "python",
   "nbconvert_exporter": "python",
   "pygments_lexer": "ipython3",
   "version": "3.5.4"
  }
 },
 "nbformat": 4,
 "nbformat_minor": 2
}
